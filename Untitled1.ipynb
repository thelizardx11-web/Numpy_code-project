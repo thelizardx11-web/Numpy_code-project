{
 "cells": [
  {
   "cell_type": "markdown",
   "id": "19b88c69-52a1-4337-889e-43b2349dfe28",
   "metadata": {},
   "source": [
    "#problem 1"
   ]
  },
  {
   "cell_type": "markdown",
   "id": "9dffa20a-31c9-4809-82ff-1c13898d60d4",
   "metadata": {},
   "source": [
    "# Give a 1d array,negate all elements which are between 3 and 8,in place \n",
    "example : 0 1 2 3 -4 -5 -6 -7 8 9 10"
   ]
  },
  {
   "cell_type": "code",
   "execution_count": 6,
   "id": "6b22e01e-3efc-4ac2-89cc-d9251a5c4000",
   "metadata": {},
   "outputs": [],
   "source": [
    "import numpy as np"
   ]
  },
  {
   "cell_type": "code",
   "execution_count": 7,
   "id": "a762795f-f51a-4f20-95b3-500395546887",
   "metadata": {},
   "outputs": [],
   "source": [
    "a = np.arange(10)"
   ]
  },
  {
   "cell_type": "code",
   "execution_count": 8,
   "id": "fed8c395-a22b-4dca-b0ee-5c2def07ac59",
   "metadata": {},
   "outputs": [
    {
     "data": {
      "text/plain": [
       "array([4, 5, 6, 7])"
      ]
     },
     "execution_count": 8,
     "metadata": {},
     "output_type": "execute_result"
    }
   ],
   "source": [
    "a[(3<a)&(a<8)]"
   ]
  },
  {
   "cell_type": "markdown",
   "id": "ead69c8f-e1f2-4358-b734-2f7fa467b1bd",
   "metadata": {},
   "source": [
    "# PROBEM 2\n",
    "    Create a random vector of size 10 and sort it."
   ]
  },
  {
   "cell_type": "code",
   "execution_count": 9,
   "id": "950eaefc-8bfc-48f6-a4c1-a527bb89f3fd",
   "metadata": {},
   "outputs": [
    {
     "data": {
      "text/plain": [
       "array([0.54764955, 0.04680957, 0.02807172, 0.11395075, 0.48283985,\n",
       "       0.57665419, 0.74012595, 0.22693286, 0.47358262, 0.72567221])"
      ]
     },
     "execution_count": 9,
     "metadata": {},
     "output_type": "execute_result"
    }
   ],
   "source": [
    "a = np.random.random(10)\n",
    "a"
   ]
  },
  {
   "cell_type": "code",
   "execution_count": 11,
   "id": "88fdf9ba-ec0a-4ef1-8150-0c7c0f9eea3b",
   "metadata": {},
   "outputs": [
    {
     "data": {
      "text/plain": [
       "array([0.02807172, 0.04680957, 0.11395075, 0.22693286, 0.47358262,\n",
       "       0.48283985, 0.54764955, 0.57665419, 0.72567221, 0.74012595])"
      ]
     },
     "execution_count": 11,
     "metadata": {},
     "output_type": "execute_result"
    }
   ],
   "source": [
    "a.sort()\n",
    "a"
   ]
  },
  {
   "cell_type": "markdown",
   "id": "a85c1800-2619-4c01-a666-575e33e0189a",
   "metadata": {},
   "source": [
    "#  problem 3\n",
    "write a numpy program to reveres an array (first element becomes last)\n",
    "original array:[12 13 14 15 16 17 18 19 20 21 22 23 24 25 26 27 28 29 30 31 32 33 34 35 36 37]\n",
    "reverse array : [37 36 35 34 33 32 31 30 29 28 27 26 25 24 23 22 21 20 19 18 17 16 15 14 13 12]"
   ]
  },
  {
   "cell_type": "code",
   "execution_count": 14,
   "id": "d768d09c-d84a-4c84-b436-f9740b850465",
   "metadata": {},
   "outputs": [
    {
     "data": {
      "text/plain": [
       "array([12, 13, 14, 15, 16, 17, 18, 19, 20, 21, 22, 23, 24, 25, 26, 27, 28,\n",
       "       29, 30, 31, 32, 33, 34, 35, 36, 37])"
      ]
     },
     "execution_count": 14,
     "metadata": {},
     "output_type": "execute_result"
    }
   ],
   "source": [
    "a = np.arange(12,38)\n",
    "a"
   ]
  },
  {
   "cell_type": "code",
   "execution_count": 15,
   "id": "75dcab79-baf7-4c2a-bd3b-e4cee7772a53",
   "metadata": {},
   "outputs": [
    {
     "data": {
      "text/plain": [
       "array([12, 13, 14, 15, 16, 17, 18, 19, 20, 21, 22, 23, 24, 25, 26, 27, 28,\n",
       "       29, 30, 31, 32, 33, 34, 35, 36, 37])"
      ]
     },
     "execution_count": 15,
     "metadata": {},
     "output_type": "execute_result"
    }
   ],
   "source": [
    "a [::-1]\n",
    "a"
   ]
  },
  {
   "cell_type": "markdown",
   "id": "71f2810a-0c93-4295-9820-f2ae688b2b37",
   "metadata": {},
   "source": [
    "# problem 4\n",
    "write a numpy program to display all the dates for the month of march 2017"
   ]
  },
  {
   "cell_type": "code",
   "execution_count": 17,
   "id": "4daffbf3-96f3-46bb-9e29-b09d4d4e9c47",
   "metadata": {},
   "outputs": [
    {
     "name": "stdout",
     "output_type": "stream",
     "text": [
      "['2017-03-01' '2017-03-02' '2017-03-03' '2017-03-04' '2017-03-05'\n",
      " '2017-03-06' '2017-03-07' '2017-03-08' '2017-03-09' '2017-03-10'\n",
      " '2017-03-11' '2017-03-12' '2017-03-13' '2017-03-14' '2017-03-15'\n",
      " '2017-03-16' '2017-03-17' '2017-03-18' '2017-03-19' '2017-03-20'\n",
      " '2017-03-21' '2017-03-22' '2017-03-23' '2017-03-24' '2017-03-25'\n",
      " '2017-03-26' '2017-03-27' '2017-03-28' '2017-03-29' '2017-03-30'\n",
      " '2017-03-31']\n"
     ]
    }
   ],
   "source": [
    "import numpy as np\n",
    "\n",
    "print(np.arange('2017-03', '2017-04', dtype='datetime64[D]'))\n"
   ]
  },
  {
   "cell_type": "markdown",
   "id": "5d40b9a3-a6f5-42d5-83d0-8d2d1da78786",
   "metadata": {},
   "source": [
    "# problem 5 \n",
    "write a numpy program to count the number of days of given month "
   ]
  },
  {
   "cell_type": "code",
   "execution_count": 18,
   "id": "b443efe7-424f-4c64-b97c-ea14a245d9db",
   "metadata": {},
   "outputs": [],
   "source": [
    "import numpy as np"
   ]
  },
  {
   "cell_type": "code",
   "execution_count": 19,
   "id": "e0fc4c80-ca20-4d82-97e9-20795a88a9d0",
   "metadata": {},
   "outputs": [
    {
     "name": "stdout",
     "output_type": "stream",
     "text": [
      "number of days, februray 2016:\n",
      "29 days\n"
     ]
    }
   ],
   "source": [
    "print(\"number of days, februray 2016:\")\n",
    "print(np.datetime64 ('2016-03-01')-np.datetime64('2016-02-01'))"
   ]
  },
  {
   "cell_type": "code",
   "execution_count": 23,
   "id": "e0f45105-91c1-4845-8dbd-90d1634d2db0",
   "metadata": {},
   "outputs": [
    {
     "name": "stdout",
     "output_type": "stream",
     "text": [
      "number of days, februray 2017:\n",
      "28 days\n"
     ]
    }
   ],
   "source": [
    "print(\"number of days, februray 2017:\")\n",
    "print(np.datetime64 ('2017-03-01')-np.datetime64('2017-02-01'))"
   ]
  },
  {
   "cell_type": "code",
   "execution_count": 24,
   "id": "ecb4278d-b5e2-4561-bad4-a37c49e66eff",
   "metadata": {},
   "outputs": [
    {
     "name": "stdout",
     "output_type": "stream",
     "text": [
      "number of days, februray 2018:\n",
      "28 days\n"
     ]
    }
   ],
   "source": [
    "print(\"number of days, februray 2018:\")\n",
    "print(np.datetime64 ('2018-03-01')-np.datetime64('2018-02-01'))"
   ]
  },
  {
   "cell_type": "markdown",
   "id": "49f5993e-4d42-4244-b8d1-36219611d2c0",
   "metadata": {},
   "source": [
    "# problem 6 \n",
    "write a numpy program to create a 8x8 matrix And fill it with a checkboard pattern"
   ]
  },
  {
   "cell_type": "code",
   "execution_count": 26,
   "id": "9d33da2a-2159-4cac-9c0d-647a1914fc09",
   "metadata": {},
   "outputs": [
    {
     "data": {
      "text/plain": [
       "array([[0, 0, 0, 0, 0, 0, 0, 0],\n",
       "       [0, 0, 0, 0, 0, 0, 0, 0],\n",
       "       [0, 0, 0, 0, 0, 0, 0, 0],\n",
       "       [0, 0, 0, 0, 0, 0, 0, 0],\n",
       "       [0, 0, 0, 0, 0, 0, 0, 0],\n",
       "       [0, 0, 0, 0, 0, 0, 0, 0],\n",
       "       [0, 0, 0, 0, 0, 0, 0, 0],\n",
       "       [0, 0, 0, 0, 0, 0, 0, 0]])"
      ]
     },
     "execution_count": 26,
     "metadata": {},
     "output_type": "execute_result"
    }
   ],
   "source": [
    "a = np.zeros((8,8), dtype=int)\n",
    "a"
   ]
  },
  {
   "cell_type": "code",
   "execution_count": 28,
   "id": "d826505f-7135-46ff-bc53-b745eb878292",
   "metadata": {},
   "outputs": [
    {
     "data": {
      "text/plain": [
       "array([[0, 0, 0, 0, 0, 0, 0, 0],\n",
       "       [1, 0, 1, 0, 1, 0, 1, 0],\n",
       "       [0, 0, 0, 0, 0, 0, 0, 0],\n",
       "       [1, 0, 1, 0, 1, 0, 1, 0],\n",
       "       [0, 0, 0, 0, 0, 0, 0, 0],\n",
       "       [1, 0, 1, 0, 1, 0, 1, 0],\n",
       "       [0, 0, 0, 0, 0, 0, 0, 0],\n",
       "       [1, 0, 1, 0, 1, 0, 1, 0]])"
      ]
     },
     "execution_count": 28,
     "metadata": {},
     "output_type": "execute_result"
    }
   ],
   "source": [
    "a[1::2,::2]=1\n",
    "a"
   ]
  },
  {
   "cell_type": "code",
   "execution_count": 29,
   "id": "ebfa9701-b62e-46c9-94df-26ecb7802ead",
   "metadata": {},
   "outputs": [
    {
     "data": {
      "text/plain": [
       "array([[0, 1, 0, 1, 0, 1, 0, 1],\n",
       "       [1, 0, 1, 0, 1, 0, 1, 0],\n",
       "       [0, 1, 0, 1, 0, 1, 0, 1],\n",
       "       [1, 0, 1, 0, 1, 0, 1, 0],\n",
       "       [0, 1, 0, 1, 0, 1, 0, 1],\n",
       "       [1, 0, 1, 0, 1, 0, 1, 0],\n",
       "       [0, 1, 0, 1, 0, 1, 0, 1],\n",
       "       [1, 0, 1, 0, 1, 0, 1, 0]])"
      ]
     },
     "execution_count": 29,
     "metadata": {},
     "output_type": "execute_result"
    }
   ],
   "source": [
    "a[::2,1::2]=1\n",
    "a"
   ]
  },
  {
   "cell_type": "markdown",
   "id": "942119d7-7df0-448e-8536-7f35e8b8ee85",
   "metadata": {},
   "source": [
    "# problem 7 \n",
    "    append values to the end of an array:-"
   ]
  },
  {
   "cell_type": "code",
   "execution_count": 30,
   "id": "f7f00677-1508-47c8-9648-73e4fb38e384",
   "metadata": {},
   "outputs": [],
   "source": [
    "x = [10,20,30]\n",
    "y = [[40,50,60], [70,80,90]]\n",
    "x = np.append(x,y)"
   ]
  },
  {
   "cell_type": "code",
   "execution_count": 31,
   "id": "8cf57521-0274-4a13-9e1e-c2236ffc8f7d",
   "metadata": {},
   "outputs": [
    {
     "data": {
      "text/plain": [
       "array([10, 20, 30, 40, 50, 60, 70, 80, 90])"
      ]
     },
     "execution_count": 31,
     "metadata": {},
     "output_type": "execute_result"
    }
   ],
   "source": [
    "x"
   ]
  },
  {
   "cell_type": "markdown",
   "id": "25d4161e-06f5-4ed8-9e32-393fb6dad273",
   "metadata": {},
   "source": [
    "#problem 8 \n",
    "[ture & false]"
   ]
  },
  {
   "cell_type": "code",
   "execution_count": 32,
   "id": "ec62c77a-2253-4dd8-a70f-cbf43f57e7a7",
   "metadata": {},
   "outputs": [
    {
     "name": "stdout",
     "output_type": "stream",
     "text": [
      "[ True  True False False False]\n"
     ]
    },
    {
     "name": "stderr",
     "output_type": "stream",
     "text": [
      "C:\\Users\\Admin\\AppData\\Local\\Temp\\ipykernel_12308\\886280587.py:3: DeprecationWarning: `in1d` is deprecated. Use `np.isin` instead.\n",
      "  print(np.in1d(arr1,arr2))\n"
     ]
    }
   ],
   "source": [
    "arr1= np.array([0,10,20,30,60])\n",
    "arr2= np.array([0,10])\n",
    "print(np.in1d(arr1,arr2))"
   ]
  },
  {
   "cell_type": "markdown",
   "id": "0d74513b-5828-4f07-a4c0-b41bd9f651a7",
   "metadata": {},
   "source": [
    "# problem 9\n",
    "write a numpy program to get the unique elements of an array"
   ]
  },
  {
   "cell_type": "code",
   "execution_count": 33,
   "id": "c850350e-262b-4695-9aad-3a85cfcaca98",
   "metadata": {},
   "outputs": [
    {
     "data": {
      "text/plain": [
       "array([10, 20, 30])"
      ]
     },
     "execution_count": 33,
     "metadata": {},
     "output_type": "execute_result"
    }
   ],
   "source": [
    "a = np.array ([10,10,20,20,30,30])\n",
    "np.unique(a)"
   ]
  },
  {
   "cell_type": "code",
   "execution_count": 35,
   "id": "9858463a-35bc-4655-b4af-125d6d3a9bdb",
   "metadata": {},
   "outputs": [
    {
     "data": {
      "text/plain": [
       "array([1, 2, 3])"
      ]
     },
     "execution_count": 35,
     "metadata": {},
     "output_type": "execute_result"
    }
   ],
   "source": [
    "b = np.array([[1,1],[2,3]])\n",
    "np.unique(b)"
   ]
  },
  {
   "cell_type": "markdown",
   "id": "dbffef42-e694-4b34-ac43-35ed523a29a4",
   "metadata": {},
   "source": [
    "# PROblem 10 \n",
    "write a numpy program to create a contignous flattened array"
   ]
  },
  {
   "cell_type": "code",
   "execution_count": 36,
   "id": "ea20d23b-33c8-45ab-9d7b-a2e0a1f36c32",
   "metadata": {},
   "outputs": [
    {
     "data": {
      "text/plain": [
       "array([[10, 20, 30],\n",
       "       [20, 30, 50]])"
      ]
     },
     "execution_count": 36,
     "metadata": {},
     "output_type": "execute_result"
    }
   ],
   "source": [
    "x = np.array([[10,20,30],[20,30,50]])\n",
    "x"
   ]
  },
  {
   "cell_type": "code",
   "execution_count": 37,
   "id": "df67031c-ba73-451a-9272-48a6890d8c9e",
   "metadata": {},
   "outputs": [
    {
     "data": {
      "text/plain": [
       "array([10, 20, 30, 20, 30, 50])"
      ]
     },
     "execution_count": 37,
     "metadata": {},
     "output_type": "execute_result"
    }
   ],
   "source": [
    "y = np.ravel(x)\n",
    "y"
   ]
  },
  {
   "cell_type": "code",
   "execution_count": null,
   "id": "d780fb36-2965-415a-bccc-c8005732a8e2",
   "metadata": {},
   "outputs": [],
   "source": []
  }
 ],
 "metadata": {
  "kernelspec": {
   "display_name": "Python 3 (ipykernel)",
   "language": "python",
   "name": "python3"
  },
  "language_info": {
   "codemirror_mode": {
    "name": "ipython",
    "version": 3
   },
   "file_extension": ".py",
   "mimetype": "text/x-python",
   "name": "python",
   "nbconvert_exporter": "python",
   "pygments_lexer": "ipython3",
   "version": "3.13.7"
  }
 },
 "nbformat": 4,
 "nbformat_minor": 5
}
